{
 "cells": [
  {
   "cell_type": "code",
   "execution_count": 2,
   "id": "4b97646f-aa7e-4853-bc99-57bb5d4077c1",
   "metadata": {},
   "outputs": [],
   "source": [
    "import pandas as pd\n",
    "import numpy as np"
   ]
  },
  {
   "cell_type": "code",
   "execution_count": 2,
   "id": "5d828d3d-ddaa-4bcf-9d28-d7acc9ce3b57",
   "metadata": {},
   "outputs": [],
   "source": [
    "# SERIES"
   ]
  },
  {
   "cell_type": "code",
   "execution_count": 3,
   "id": "3f89d745-c252-49a6-a2f2-7386ed740dca",
   "metadata": {},
   "outputs": [
    {
     "name": "stdout",
     "output_type": "stream",
     "text": [
      "Series([], dtype: object)\n"
     ]
    }
   ],
   "source": [
    "#Creating an empty Series:\n",
    "# Creating empty series\n",
    "ser = pd.Series()\n",
    " \n",
    "print(ser)"
   ]
  },
  {
   "cell_type": "code",
   "execution_count": 4,
   "id": "30cf34e5-eabf-49e0-a691-eab29418d465",
   "metadata": {},
   "outputs": [],
   "source": [
    "#Creating a series from array with an index:\n",
    "# simple array\n",
    "data = np.array(['g', 'e', 'e', 'k', 's'])"
   ]
  },
  {
   "cell_type": "code",
   "execution_count": 5,
   "id": "5076b41d-5c82-4205-bb26-d286b21990aa",
   "metadata": {},
   "outputs": [
    {
     "name": "stdout",
     "output_type": "stream",
     "text": [
      "10    g\n",
      "11    e\n",
      "12    e\n",
      "13    k\n",
      "14    s\n",
      "dtype: object\n"
     ]
    }
   ],
   "source": [
    "# providing an index\n",
    "ser = pd.Series(data, index=[10, 11, 12, 13, 14])\n",
    "print(ser)"
   ]
  },
  {
   "cell_type": "code",
   "execution_count": 6,
   "id": "57d8c7b0-cd53-444a-af60-469d4278d5c6",
   "metadata": {},
   "outputs": [],
   "source": [
    "#Creating a series from Lists:\n",
    "# a simple list\n",
    "list = ['g', 'e', 'e', 'k', 's']"
   ]
  },
  {
   "cell_type": "code",
   "execution_count": 7,
   "id": "6ff1aade-4368-4885-83f7-431a0abc1b2f",
   "metadata": {},
   "outputs": [
    {
     "name": "stdout",
     "output_type": "stream",
     "text": [
      "0    g\n",
      "1    e\n",
      "2    e\n",
      "3    k\n",
      "4    s\n",
      "dtype: object\n"
     ]
    }
   ],
   "source": [
    "# create series form a list\n",
    "ser = pd.Series(list)\n",
    "print(ser)"
   ]
  },
  {
   "cell_type": "code",
   "execution_count": 8,
   "id": "75959171-b033-4ae0-9441-c7d57b10ac63",
   "metadata": {},
   "outputs": [],
   "source": [
    "#Creating a series from Dictionary:\n",
    "# a simple dictionary\n",
    "dict = {'Geeks': 10,\n",
    "        'for': 20,\n",
    "        'geeks': 30}"
   ]
  },
  {
   "cell_type": "code",
   "execution_count": 9,
   "id": "a0f294aa-a059-4a84-a280-2756529e8159",
   "metadata": {},
   "outputs": [
    {
     "name": "stdout",
     "output_type": "stream",
     "text": [
      "Geeks    10\n",
      "for      20\n",
      "geeks    30\n",
      "dtype: int64\n"
     ]
    }
   ],
   "source": [
    "# create series from dictionary\n",
    "ser = pd.Series(dict)\n",
    " \n",
    "print(ser)"
   ]
  },
  {
   "cell_type": "code",
   "execution_count": 10,
   "id": "cbb32e9c-feca-415b-a72f-6576b7939895",
   "metadata": {},
   "outputs": [
    {
     "name": "stdout",
     "output_type": "stream",
     "text": [
      "0    10\n",
      "1    10\n",
      "2    10\n",
      "3    10\n",
      "4    10\n",
      "5    10\n",
      "dtype: int64\n"
     ]
    }
   ],
   "source": [
    "#Creating a series from Scalar value:\n",
    "# giving a scalar value with index\n",
    "ser = pd.Series(10, index=[0, 1, 2, 3, 4, 5])\n",
    " \n",
    "print(ser)"
   ]
  },
  {
   "cell_type": "code",
   "execution_count": 11,
   "id": "07aaae5a-8f63-413d-828f-49ee255592d9",
   "metadata": {},
   "outputs": [],
   "source": [
    "#DATAFRAMES"
   ]
  },
  {
   "cell_type": "code",
   "execution_count": 12,
   "id": "a3332c9f-358a-4686-aebf-9a6c28c5cdc8",
   "metadata": {},
   "outputs": [
    {
     "name": "stdout",
     "output_type": "stream",
     "text": [
      "Empty DataFrame\n",
      "Columns: []\n",
      "Index: []\n"
     ]
    }
   ],
   "source": [
    "# Creating an empty dataframe : \n",
    "df = pd.DataFrame()\n",
    "\n",
    "print(df)"
   ]
  },
  {
   "cell_type": "code",
   "execution_count": 13,
   "id": "9dd9dcd1-26d8-4a5a-986e-52f49a5a7ea1",
   "metadata": {},
   "outputs": [],
   "source": [
    "#Creating a dataframe using List:\n",
    "# list of strings\n",
    "lst = ['Geeks', 'For', 'Geeks', 'is',\n",
    "       'portal', 'for', 'Geeks']"
   ]
  },
  {
   "cell_type": "code",
   "execution_count": 14,
   "id": "b1b83fc5-1593-4bdf-97c1-a496b50b9077",
   "metadata": {},
   "outputs": [
    {
     "name": "stdout",
     "output_type": "stream",
     "text": [
      "        0\n",
      "0   Geeks\n",
      "1     For\n",
      "2   Geeks\n",
      "3      is\n",
      "4  portal\n",
      "5     for\n",
      "6   Geeks\n"
     ]
    }
   ],
   "source": [
    "# Calling DataFrame constructor on list\n",
    "df = pd.DataFrame(lst)\n",
    "print(df)"
   ]
  },
  {
   "cell_type": "code",
   "execution_count": 15,
   "id": "d1121d59-9d7f-47c1-a4f3-a3f834bd1db7",
   "metadata": {},
   "outputs": [
    {
     "name": "stdout",
     "output_type": "stream",
     "text": [
      "    Name  Age\n",
      "0    Tom   20\n",
      "1   nick   21\n",
      "2  krish   19\n",
      "3   jack   18\n"
     ]
    }
   ],
   "source": [
    "#Creating DataFrame from dict of ndarray/lists: \n",
    "# initialise data of lists.\n",
    "data = {'Name': ['Tom', 'nick', 'krish', 'jack'], 'Age': [20, 21, 19, 18]}\n",
    "\n",
    "# Create DataFrame\n",
    "df = pd.DataFrame(data)\n",
    "\n",
    "# Print the output.\n",
    "print(df)"
   ]
  },
  {
   "cell_type": "code",
   "execution_count": 16,
   "id": "082fe7dc-7353-4495-b518-c28b48978a4d",
   "metadata": {},
   "outputs": [
    {
     "name": "stdout",
     "output_type": "stream",
     "text": [
      "     name  degree  score\n",
      "0  aparna     MBA     90\n",
      "1  pankaj     BCA     40\n",
      "2  sudhir  M.Tech     80\n",
      "3   Geeku     MBA     98\n"
     ]
    }
   ],
   "source": [
    "#Create pandas dataframe from lists using dictionary: \n",
    "# dictionary of lists\n",
    "dict = {'name': [\"aparna\", \"pankaj\", \"sudhir\", \"Geeku\"],\n",
    "        'degree': [\"MBA\", \"BCA\", \"M.Tech\", \"MBA\"],\n",
    "        'score': [90, 40, 80, 98]}\n",
    "\n",
    "df = pd.DataFrame(dict)\n",
    "\n",
    "print(df)"
   ]
  },
  {
   "cell_type": "code",
   "execution_count": 17,
   "id": "776d43c7-5952-4407-8526-d94682d60429",
   "metadata": {},
   "outputs": [],
   "source": [
    "#Viewing data\n",
    "\n",
    "#HEAD"
   ]
  },
  {
   "cell_type": "code",
   "execution_count": 18,
   "id": "503dd7d7-4e9d-4a2c-a3b1-fdf3794cc9f5",
   "metadata": {},
   "outputs": [
    {
     "name": "stdout",
     "output_type": "stream",
     "text": [
      "            Name            Team  Number Position   Age Height  Weight  \\\n",
      "0  Avery Bradley  Boston Celtics     0.0       PG  25.0    6-2   180.0   \n",
      "1    Jae Crowder  Boston Celtics    99.0       SF  25.0    6-6   235.0   \n",
      "2   John Holland  Boston Celtics    30.0       SG  27.0    6-5   205.0   \n",
      "3    R.J. Hunter  Boston Celtics    28.0       SG  22.0    6-5   185.0   \n",
      "4  Jonas Jerebko  Boston Celtics     8.0       PF  29.0   6-10   231.0   \n",
      "\n",
      "             College     Salary  \n",
      "0              Texas  7730337.0  \n",
      "1          Marquette  6796117.0  \n",
      "2  Boston University        NaN  \n",
      "3      Georgia State  1148640.0  \n",
      "4                NaN  5000000.0  \n"
     ]
    }
   ],
   "source": [
    "# making data frame\n",
    "data = pd.read_csv(\"nba.csv\")\n",
    "\n",
    "data_top = data.head()\n",
    "print(data_top)"
   ]
  },
  {
   "cell_type": "code",
   "execution_count": 19,
   "id": "33d119a5-3a61-4bff-a421-5a06b833d305",
   "metadata": {},
   "outputs": [
    {
     "name": "stdout",
     "output_type": "stream",
     "text": [
      "             Name       Team  Number Position   Age Height  Weight College  \\\n",
      "453  Shelvin Mack  Utah Jazz     8.0       PG  26.0    6-3   203.0  Butler   \n",
      "454     Raul Neto  Utah Jazz    25.0       PG  24.0    6-1   179.0     NaN   \n",
      "455  Tibor Pleiss  Utah Jazz    21.0        C  26.0    7-3   256.0     NaN   \n",
      "456   Jeff Withey  Utah Jazz    24.0        C  26.0    7-0   231.0  Kansas   \n",
      "457           NaN        NaN     NaN      NaN   NaN    NaN     NaN     NaN   \n",
      "\n",
      "        Salary  \n",
      "453  2433333.0  \n",
      "454   900000.0  \n",
      "455  2900000.0  \n",
      "456   947276.0  \n",
      "457        NaN  \n"
     ]
    }
   ],
   "source": [
    "#TAIL\n",
    "data = pd.read_csv(\"nba.csv\") \n",
    "\n",
    "data_bottom = data.tail() \n",
    "print(data_bottom) "
   ]
  },
  {
   "cell_type": "code",
   "execution_count": 20,
   "id": "1535db27-36ff-4671-96da-208eaeea7f98",
   "metadata": {},
   "outputs": [
    {
     "name": "stdout",
     "output_type": "stream",
     "text": [
      "            Name            Team  Number Position   Age Height  Weight  \\\n",
      "0  Avery Bradley  Boston Celtics     0.0       PG  25.0    6-2   180.0   \n",
      "1    Jae Crowder  Boston Celtics    99.0       SF  25.0    6-6   235.0   \n",
      "2   John Holland  Boston Celtics    30.0       SG  27.0    6-5   205.0   \n",
      "3    R.J. Hunter  Boston Celtics    28.0       SG  22.0    6-5   185.0   \n",
      "4  Jonas Jerebko  Boston Celtics     8.0       PF  29.0   6-10   231.0   \n",
      "\n",
      "             College     Salary  \n",
      "0              Texas  7730337.0  \n",
      "1          Marquette  6796117.0  \n",
      "2  Boston University        NaN  \n",
      "3      Georgia State  1148640.0  \n",
      "4                NaN  5000000.0  \n",
      "           Number         Age      Weight        Salary\n",
      "count  457.000000  457.000000  457.000000  4.460000e+02\n",
      "mean    17.678337   26.938731  221.522976  4.842684e+06\n",
      "std     15.966090    4.404016   26.368343  5.229238e+06\n",
      "min      0.000000   19.000000  161.000000  3.088800e+04\n",
      "25%      5.000000   24.000000  200.000000  1.044792e+06\n",
      "50%     13.000000   26.000000  220.000000  2.839073e+06\n",
      "75%     25.000000   30.000000  240.000000  6.500000e+06\n",
      "max     99.000000   40.000000  307.000000  2.500000e+07\n"
     ]
    }
   ],
   "source": [
    "#DESCRIBE\n",
    "data = pd.read_csv('nba.csv')\n",
    "print(data.head())\n",
    "   \n",
    "print(data.describe())"
   ]
  },
  {
   "cell_type": "code",
   "execution_count": 21,
   "id": "7113ff98-2e19-48d5-9a21-4ee3ba6cc5de",
   "metadata": {},
   "outputs": [
    {
     "name": "stdout",
     "output_type": "stream",
     "text": [
      "                 Name                  Team      Number Position         Age  \\\n",
      "count             364                   364  364.000000      364  364.000000   \n",
      "unique            364                    30         NaN        5         NaN   \n",
      "top     Avery Bradley  New Orleans Pelicans         NaN       SG         NaN   \n",
      "freq                1                    16         NaN       87         NaN   \n",
      "mean              NaN                   NaN   16.829670      NaN   26.615385   \n",
      "std               NaN                   NaN   14.994162      NaN    4.233591   \n",
      "min               NaN                   NaN    0.000000      NaN   19.000000   \n",
      "20%               NaN                   NaN    4.000000      NaN   23.000000   \n",
      "40%               NaN                   NaN    9.000000      NaN   25.000000   \n",
      "50%               NaN                   NaN   12.000000      NaN   26.000000   \n",
      "60%               NaN                   NaN   17.000000      NaN   27.000000   \n",
      "80%               NaN                   NaN   30.000000      NaN   30.000000   \n",
      "max               NaN                   NaN   99.000000      NaN   40.000000   \n",
      "\n",
      "       Height      Weight   College        Salary  \n",
      "count     364  364.000000       364  3.640000e+02  \n",
      "unique     17         NaN       115           NaN  \n",
      "top       6-9         NaN  Kentucky           NaN  \n",
      "freq       49         NaN        22           NaN  \n",
      "mean      NaN  219.785714       NaN  4.620311e+06  \n",
      "std       NaN   24.793099       NaN  5.119716e+06  \n",
      "min       NaN  161.000000       NaN  5.572200e+04  \n",
      "20%       NaN  195.000000       NaN  9.472760e+05  \n",
      "40%       NaN  212.000000       NaN  1.638754e+06  \n",
      "50%       NaN  220.000000       NaN  2.515440e+06  \n",
      "60%       NaN  228.000000       NaN  3.429934e+06  \n",
      "80%       NaN  242.400000       NaN  7.838202e+06  \n",
      "max       NaN  279.000000       NaN  2.287500e+07  \n"
     ]
    }
   ],
   "source": [
    "#Describe part 2\n",
    "data = pd.read_csv('nba.csv')\n",
    " \n",
    "# removing null values to avoid errors\n",
    "data.dropna(inplace=True, how='any')\n",
    "\n",
    "# percentile list\n",
    "perc = [.20, .40, .60, .80]\n",
    " \n",
    "# list of dtypes to include\n",
    "include = ['object', 'float', 'int']\n",
    " \n",
    "# calling describe method\n",
    "print(data.describe(percentiles=perc, include=include))"
   ]
  },
  {
   "cell_type": "code",
   "execution_count": 22,
   "id": "1a25b5aa-f315-43b3-98fd-6fa50408d872",
   "metadata": {},
   "outputs": [
    {
     "name": "stdout",
     "output_type": "stream",
     "text": [
      "count          364\n",
      "unique         115\n",
      "top       Kentucky\n",
      "freq            22\n",
      "Name: College, dtype: object\n"
     ]
    }
   ],
   "source": [
    "#Describe part 3\n",
    "data = pd.read_csv(\"nba.csv\")\n",
    "#print(data.isna())\n",
    "# removing null values to avoid errors\n",
    "data.dropna(inplace=True)\n",
    " \n",
    "# calling describe method\n",
    "print(data[\"College\"].describe())"
   ]
  },
  {
   "cell_type": "code",
   "execution_count": 23,
   "id": "b3e52b09-b6de-49f6-9de8-488d564d1dac",
   "metadata": {},
   "outputs": [],
   "source": [
    "#DEALING WITH COLUMNS"
   ]
  },
  {
   "cell_type": "code",
   "execution_count": 24,
   "id": "2c48da32-e72e-43b8-a87b-44cf771029b0",
   "metadata": {},
   "outputs": [
    {
     "name": "stdout",
     "output_type": "stream",
     "text": [
      "     Name  Age    Address Qualification\n",
      "0     Jai   27      Delhi           Msc\n",
      "1  Princi   24     Kanpur            MA\n",
      "2  Gaurav   22  Allahabad           MCA\n",
      "3    Anuj   32    Kannauj           Phd\n",
      "     Name Qualification\n",
      "0     Jai           Msc\n",
      "1  Princi            MA\n",
      "2  Gaurav           MCA\n",
      "3    Anuj           Phd\n"
     ]
    }
   ],
   "source": [
    "# Define a dictionary containing employee data\n",
    "data = {'Name':['Jai', 'Princi', 'Gaurav', 'Anuj'],\n",
    "        'Age':[27, 24, 22, 32],\n",
    "        'Address':['Delhi', 'Kanpur', 'Allahabad', 'Kannauj'],\n",
    "        'Qualification':['Msc', 'MA', 'MCA', 'Phd']}\n",
    " \n",
    "# Convert the dictionary into DataFrame \n",
    "df = pd.DataFrame(data)\n",
    "print(df.head())\n",
    "# select two columns\n",
    "print(df[['Name', 'Qualification']])"
   ]
  },
  {
   "cell_type": "code",
   "execution_count": 25,
   "id": "86b30c7c-7087-4712-8284-856162adbed6",
   "metadata": {},
   "outputs": [
    {
     "name": "stdout",
     "output_type": "stream",
     "text": [
      "     Name  Height Qualification\n",
      "0     Jai     5.1           Msc\n",
      "1  Princi     6.2            MA\n",
      "2  Gaurav     5.1           Msc\n",
      "3    Anuj     5.2           Msc\n",
      "     Name  Height Qualification    Address\n",
      "0     Jai     5.1           Msc      Delhi\n",
      "1  Princi     6.2            MA  Bangalore\n",
      "2  Gaurav     5.1           Msc    Chennai\n",
      "3    Anuj     5.2           Msc      Patna\n"
     ]
    }
   ],
   "source": [
    "#Add column\n",
    "# Define a dictionary containing Students data\n",
    "data = {'Name': ['Jai', 'Princi', 'Gaurav', 'Anuj'],\n",
    "        'Height': [5.1, 6.2, 5.1, 5.2],\n",
    "        'Qualification': ['Msc', 'MA', 'Msc', 'Msc']}\n",
    "\n",
    "# Convert the dictionary into DataFrame\n",
    "df = pd.DataFrame(data)\n",
    "print(df.head())\n",
    "# Declare a list that is to be converted into a column\n",
    "address = ['Delhi', 'Bangalore', 'Chennai', 'Patna']\n",
    "\n",
    "# Using 'Address' as the column name\n",
    "# and equating it to the list\n",
    "df['Address'] = address\n",
    "\n",
    "# Observe the result\n",
    "print(df)"
   ]
  },
  {
   "cell_type": "code",
   "execution_count": 26,
   "id": "5a000c6e-9165-4172-b66a-1fcddcd13214",
   "metadata": {},
   "outputs": [
    {
     "name": "stdout",
     "output_type": "stream",
     "text": [
      "               Number Position   Age Height            College     Salary\n",
      "Name                                                                     \n",
      "Avery Bradley     0.0       PG  25.0    6-2              Texas  7730337.0\n",
      "Jae Crowder      99.0       SF  25.0    6-6          Marquette  6796117.0\n",
      "John Holland     30.0       SG  27.0    6-5  Boston University        NaN\n",
      "R.J. Hunter      28.0       SG  22.0    6-5      Georgia State  1148640.0\n",
      "Jonas Jerebko     8.0       PF  29.0   6-10                NaN  5000000.0\n",
      "...               ...      ...   ...    ...                ...        ...\n",
      "Shelvin Mack      8.0       PG  26.0    6-3             Butler  2433333.0\n",
      "Raul Neto        25.0       PG  24.0    6-1                NaN   900000.0\n",
      "Tibor Pleiss     21.0        C  26.0    7-3                NaN  2900000.0\n",
      "Jeff Withey      24.0        C  26.0    7-0             Kansas   947276.0\n",
      "NaN               NaN      NaN   NaN    NaN                NaN        NaN\n",
      "\n",
      "[458 rows x 6 columns]\n"
     ]
    }
   ],
   "source": [
    "#Drop columns\n",
    "# making data frame from csv file\n",
    "data = pd.read_csv(\"nba.csv\", index_col =\"Name\" )\n",
    " \n",
    "# dropping passed columns\n",
    "data.drop([\"Team\", \"Weight\"], axis =1, inplace = True)\n",
    " \n",
    "# display\n",
    "print(data)"
   ]
  },
  {
   "cell_type": "code",
   "execution_count": 27,
   "id": "fe18b3c3-6a95-436b-9fd7-6ae5f0101325",
   "metadata": {},
   "outputs": [],
   "source": [
    "#DEALING with rows"
   ]
  },
  {
   "cell_type": "code",
   "execution_count": 28,
   "id": "b5a9215f-62ba-4a99-9f30-0e0b952919ab",
   "metadata": {},
   "outputs": [
    {
     "name": "stdout",
     "output_type": "stream",
     "text": [
      "Team        Boston Celtics\n",
      "Number                 0.0\n",
      "Position                PG\n",
      "Age                   25.0\n",
      "Height                 6-2\n",
      "Weight               180.0\n",
      "College              Texas\n",
      "Salary           7730337.0\n",
      "Name: Avery Bradley, dtype: object \n",
      "\n",
      "\n",
      " Team        Boston Celtics\n",
      "Number                28.0\n",
      "Position                SG\n",
      "Age                   22.0\n",
      "Height                 6-5\n",
      "Weight               185.0\n",
      "College      Georgia State\n",
      "Salary           1148640.0\n",
      "Name: R.J. Hunter, dtype: object\n"
     ]
    }
   ],
   "source": [
    "# making data frame from csv file\n",
    "data = pd.read_csv(\"nba.csv\", index_col =\"Name\")\n",
    " \n",
    "# retrieving row by loc method\n",
    "first = data.loc[\"Avery Bradley\"]\n",
    "second = data.loc[\"R.J. Hunter\"]\n",
    " \n",
    " \n",
    "print(first, \"\\n\\n\\n\", second)"
   ]
  },
  {
   "cell_type": "code",
   "execution_count": 29,
   "id": "1d953d43-32a1-43b0-95b2-3f9df5062cae",
   "metadata": {},
   "outputs": [
    {
     "name": "stdout",
     "output_type": "stream",
     "text": [
      "                         Team  Number Position   Age Height  Weight  \\\n",
      "Name                                                                  \n",
      "Avery Bradley  Boston Celtics     0.0       PG  25.0    6-2   180.0   \n",
      "Jae Crowder    Boston Celtics    99.0       SF  25.0    6-6   235.0   \n",
      "John Holland   Boston Celtics    30.0       SG  27.0    6-5   205.0   \n",
      "R.J. Hunter    Boston Celtics    28.0       SG  22.0    6-5   185.0   \n",
      "Jonas Jerebko  Boston Celtics     8.0       PF  29.0   6-10   231.0   \n",
      "Amir Johnson   Boston Celtics    90.0       PF  29.0    6-9   240.0   \n",
      "Jordan Mickey  Boston Celtics    55.0       PF  21.0    6-8   235.0   \n",
      "Kelly Olynyk   Boston Celtics    41.0        C  25.0    7-0   238.0   \n",
      "Terry Rozier   Boston Celtics    12.0       PG  22.0    6-2   190.0   \n",
      "Marcus Smart   Boston Celtics    36.0       PG  22.0    6-4   220.0   \n",
      "\n",
      "                         College      Salary  \n",
      "Name                                          \n",
      "Avery Bradley              Texas   7730337.0  \n",
      "Jae Crowder            Marquette   6796117.0  \n",
      "John Holland   Boston University         NaN  \n",
      "R.J. Hunter        Georgia State   1148640.0  \n",
      "Jonas Jerebko                NaN   5000000.0  \n",
      "Amir Johnson                 NaN  12000000.0  \n",
      "Jordan Mickey                LSU   1170960.0  \n",
      "Kelly Olynyk             Gonzaga   2165160.0  \n",
      "Terry Rozier          Louisville   1824360.0  \n",
      "Marcus Smart      Oklahoma State   3431040.0  \n",
      "    Name            Team  Number Position   Age Height  Weight  \\\n",
      "0  Geeks          Boston     3.0       PG  33.0    6-2   189.0   \n",
      "1    NaN  Boston Celtics     0.0       PG  25.0    6-2   180.0   \n",
      "2    NaN  Boston Celtics    99.0       SF  25.0    6-6   235.0   \n",
      "3    NaN  Boston Celtics    30.0       SG  27.0    6-5   205.0   \n",
      "4    NaN  Boston Celtics    28.0       SG  22.0    6-5   185.0   \n",
      "\n",
      "             College     Salary  \n",
      "0                MIT    99999.0  \n",
      "1              Texas  7730337.0  \n",
      "2          Marquette  6796117.0  \n",
      "3  Boston University        NaN  \n",
      "4      Georgia State  1148640.0  \n"
     ]
    }
   ],
   "source": [
    "#Add row:\n",
    "df = pd.read_csv(\"nba.csv\", index_col =\"Name\")\n",
    "print(df.head(10))\n",
    "\n",
    "new_row = pd.DataFrame({'Name':'Geeks', 'Team':'Boston', 'Number':3,\n",
    "                        'Position':'PG', 'Age':33, 'Height':'6-2',\n",
    "                        'Weight':189, 'College':'MIT', 'Salary':99999},\n",
    "                                                            index =['Name'])\n",
    "# simply concatenate both dataframes\n",
    "df = pd.concat([new_row, df]).reset_index(drop = True)\n",
    "print(df.head(5))"
   ]
  },
  {
   "cell_type": "code",
   "execution_count": 30,
   "id": "1a895548-5048-41c1-bd81-01e69be862f7",
   "metadata": {},
   "outputs": [
    {
     "name": "stdout",
     "output_type": "stream",
     "text": [
      "                         Team  Number Position   Age Height  Weight  \\\n",
      "Name                                                                  \n",
      "Jae Crowder    Boston Celtics    99.0       SF  25.0    6-6   235.0   \n",
      "Jonas Jerebko  Boston Celtics     8.0       PF  29.0   6-10   231.0   \n",
      "Amir Johnson   Boston Celtics    90.0       PF  29.0    6-9   240.0   \n",
      "Jordan Mickey  Boston Celtics    55.0       PF  21.0    6-8   235.0   \n",
      "Kelly Olynyk   Boston Celtics    41.0        C  25.0    7-0   238.0   \n",
      "...                       ...     ...      ...   ...    ...     ...   \n",
      "Shelvin Mack        Utah Jazz     8.0       PG  26.0    6-3   203.0   \n",
      "Raul Neto           Utah Jazz    25.0       PG  24.0    6-1   179.0   \n",
      "Tibor Pleiss        Utah Jazz    21.0        C  26.0    7-3   256.0   \n",
      "Jeff Withey         Utah Jazz    24.0        C  26.0    7-0   231.0   \n",
      "NaN                       NaN     NaN      NaN   NaN    NaN     NaN   \n",
      "\n",
      "                 College      Salary  \n",
      "Name                                  \n",
      "Jae Crowder    Marquette   6796117.0  \n",
      "Jonas Jerebko        NaN   5000000.0  \n",
      "Amir Johnson         NaN  12000000.0  \n",
      "Jordan Mickey        LSU   1170960.0  \n",
      "Kelly Olynyk     Gonzaga   2165160.0  \n",
      "...                  ...         ...  \n",
      "Shelvin Mack      Butler   2433333.0  \n",
      "Raul Neto            NaN    900000.0  \n",
      "Tibor Pleiss         NaN   2900000.0  \n",
      "Jeff Withey       Kansas    947276.0  \n",
      "NaN                  NaN         NaN  \n",
      "\n",
      "[455 rows x 8 columns]\n"
     ]
    }
   ],
   "source": [
    "#Delete row\n",
    "# making data frame from csv file\n",
    "data = pd.read_csv(\"nba.csv\", index_col =\"Name\" )\n",
    " \n",
    "# dropping passed values\n",
    "data.drop([\"Avery Bradley\", \"John Holland\", \"R.J. Hunter\",\n",
    "                            \"R.J. Hunter\"], inplace = True)\n",
    " \n",
    "# display\n",
    "print(data)"
   ]
  },
  {
   "cell_type": "code",
   "execution_count": 31,
   "id": "90f595c9-7c1d-4470-b7a7-20a33222e482",
   "metadata": {},
   "outputs": [
    {
     "name": "stdout",
     "output_type": "stream",
     "text": [
      "<class 'pandas.core.frame.DataFrame'>\n",
      "                         Team  Number Position   Age Height  Weight  \\\n",
      "Name                                                                  \n",
      "Avery Bradley  Boston Celtics     0.0       PG  25.0    6-2   180.0   \n",
      "R.J. Hunter    Boston Celtics    28.0       SG  22.0    6-5   185.0   \n",
      "\n",
      "                     College     Salary  \n",
      "Name                                     \n",
      "Avery Bradley          Texas  7730337.0  \n",
      "R.J. Hunter    Georgia State  1148640.0  \n"
     ]
    }
   ],
   "source": [
    "# Multiple parameters\n",
    "# making data frame from csv file \n",
    "data = pd.read_csv(\"nba.csv\", index_col =\"Name\") \n",
    "  \n",
    "# retrieving rows by loc method \n",
    "rows = data.loc[[\"Avery Bradley\", \"R.J. Hunter\"]] \n",
    "  \n",
    "# checking data type of rows \n",
    "print(type(rows)) \n",
    "  \n",
    "# display \n",
    "print(rows) "
   ]
  },
  {
   "cell_type": "code",
   "execution_count": 32,
   "id": "50acb0d0-820f-4196-9d4c-82efcebfb488",
   "metadata": {},
   "outputs": [
    {
     "name": "stdout",
     "output_type": "stream",
     "text": [
      "<class 'pandas.core.frame.DataFrame'>\n",
      "                     Name  Number Position   Age Height  Weight       College  \\\n",
      "Team                                                                            \n",
      "Utah Jazz   Trevor Booker    33.0       PF  28.0    6-8   228.0       Clemson   \n",
      "Utah Jazz      Trey Burke     3.0       PG  23.0    6-1   191.0      Michigan   \n",
      "Utah Jazz      Alec Burks    10.0       SG  24.0    6-6   214.0      Colorado   \n",
      "Utah Jazz      Dante Exum    11.0       PG  20.0    6-6   190.0           NaN   \n",
      "Utah Jazz  Derrick Favors    15.0       PF  24.0   6-10   265.0  Georgia Tech   \n",
      "Utah Jazz     Rudy Gobert    27.0        C  23.0    7-1   245.0           NaN   \n",
      "Utah Jazz  Gordon Hayward    20.0       SF  26.0    6-8   226.0        Butler   \n",
      "Utah Jazz     Rodney Hood     5.0       SG  23.0    6-8   206.0          Duke   \n",
      "Utah Jazz      Joe Ingles     2.0       SF  28.0    6-8   226.0           NaN   \n",
      "Utah Jazz   Chris Johnson    23.0       SF  26.0    6-6   206.0        Dayton   \n",
      "Utah Jazz      Trey Lyles    41.0       PF  20.0   6-10   234.0      Kentucky   \n",
      "Utah Jazz    Shelvin Mack     8.0       PG  26.0    6-3   203.0        Butler   \n",
      "Utah Jazz       Raul Neto    25.0       PG  24.0    6-1   179.0           NaN   \n",
      "Utah Jazz    Tibor Pleiss    21.0        C  26.0    7-3   256.0           NaN   \n",
      "Utah Jazz     Jeff Withey    24.0        C  26.0    7-0   231.0        Kansas   \n",
      "\n",
      "               Salary  \n",
      "Team                   \n",
      "Utah Jazz   4775000.0  \n",
      "Utah Jazz   2658240.0  \n",
      "Utah Jazz   9463484.0  \n",
      "Utah Jazz   3777720.0  \n",
      "Utah Jazz  12000000.0  \n",
      "Utah Jazz   1175880.0  \n",
      "Utah Jazz  15409570.0  \n",
      "Utah Jazz   1348440.0  \n",
      "Utah Jazz   2050000.0  \n",
      "Utah Jazz    981348.0  \n",
      "Utah Jazz   2239800.0  \n",
      "Utah Jazz   2433333.0  \n",
      "Utah Jazz    900000.0  \n",
      "Utah Jazz   2900000.0  \n",
      "Utah Jazz    947276.0  \n"
     ]
    }
   ],
   "source": [
    "#Extracting multiple rows with same index\n",
    "# making data frame from csv file \n",
    "data = pd.read_csv(\"nba.csv\", index_col =\"Team\") \n",
    "  \n",
    "# retrieving rows by loc method \n",
    "rows = data.loc[\"Utah Jazz\"] \n",
    "  \n",
    "# checking data type of rows \n",
    "print(type(rows)) \n",
    "  \n",
    "# display \n",
    "print(rows) "
   ]
  },
  {
   "cell_type": "code",
   "execution_count": 33,
   "id": "c23fd5d5-2e0c-4a95-96dc-bcd1e5fbbde1",
   "metadata": {},
   "outputs": [
    {
     "name": "stdout",
     "output_type": "stream",
     "text": [
      "<class 'pandas.core.frame.DataFrame'>\n",
      "                           Team  Number Position   Age Height  Weight  \\\n",
      "Name                                                                    \n",
      "Avery Bradley    Boston Celtics     0.0       PG  25.0    6-2   180.0   \n",
      "Jae Crowder      Boston Celtics    99.0       SF  25.0    6-6   235.0   \n",
      "John Holland     Boston Celtics    30.0       SG  27.0    6-5   205.0   \n",
      "R.J. Hunter      Boston Celtics    28.0       SG  22.0    6-5   185.0   \n",
      "Jonas Jerebko    Boston Celtics     8.0       PF  29.0   6-10   231.0   \n",
      "Amir Johnson     Boston Celtics    90.0       PF  29.0    6-9   240.0   \n",
      "Jordan Mickey    Boston Celtics    55.0       PF  21.0    6-8   235.0   \n",
      "Kelly Olynyk     Boston Celtics    41.0        C  25.0    7-0   238.0   \n",
      "Terry Rozier     Boston Celtics    12.0       PG  22.0    6-2   190.0   \n",
      "Marcus Smart     Boston Celtics    36.0       PG  22.0    6-4   220.0   \n",
      "Jared Sullinger  Boston Celtics     7.0        C  24.0    6-9   260.0   \n",
      "Isaiah Thomas    Boston Celtics     4.0       PG  27.0    5-9   185.0   \n",
      "\n",
      "                           College      Salary  \n",
      "Name                                            \n",
      "Avery Bradley                Texas   7730337.0  \n",
      "Jae Crowder              Marquette   6796117.0  \n",
      "John Holland     Boston University         NaN  \n",
      "R.J. Hunter          Georgia State   1148640.0  \n",
      "Jonas Jerebko                  NaN   5000000.0  \n",
      "Amir Johnson                   NaN  12000000.0  \n",
      "Jordan Mickey                  LSU   1170960.0  \n",
      "Kelly Olynyk               Gonzaga   2165160.0  \n",
      "Terry Rozier            Louisville   1824360.0  \n",
      "Marcus Smart        Oklahoma State   3431040.0  \n",
      "Jared Sullinger         Ohio State   2569260.0  \n",
      "Isaiah Thomas           Washington   6912869.0  \n"
     ]
    }
   ],
   "source": [
    "#Extracting rows between two index labels\n",
    "data = pd.read_csv(\"nba.csv\", index_col =\"Name\") \n",
    "  \n",
    "# retrieving rows by loc method \n",
    "rows = data.loc[\"Avery Bradley\":\"Isaiah Thomas\"] \n",
    "  \n",
    "# checking data type of rows \n",
    "print(type(rows)) \n",
    "  \n",
    "# display \n",
    "print(rows) "
   ]
  },
  {
   "cell_type": "code",
   "execution_count": 34,
   "id": "99abb6a5-8659-4b1d-b6d0-19101786032b",
   "metadata": {},
   "outputs": [
    {
     "name": "stdout",
     "output_type": "stream",
     "text": [
      "Name        True\n",
      "Team        True\n",
      "Number      True\n",
      "Position    True\n",
      "Age         True\n",
      "Height      True\n",
      "Weight      True\n",
      "College     True\n",
      "Salary      True\n",
      "Name: 3, dtype: bool\n"
     ]
    }
   ],
   "source": [
    "#iloc vs loc\n",
    "data = pd.read_csv('nba.csv')\n",
    " \n",
    "# retrieving rows by loc method\n",
    "row1 = data.loc[3]\n",
    " \n",
    "# retrieving rows by iloc method\n",
    "row2 = data.iloc[3]\n",
    " \n",
    "# checking if values are equal\n",
    "print(row1 == row2)"
   ]
  },
  {
   "cell_type": "code",
   "execution_count": 35,
   "id": "6ad341b0-ccce-4ad9-9fdf-f098107bb47b",
   "metadata": {},
   "outputs": [
    {
     "name": "stdout",
     "output_type": "stream",
     "text": [
      "Original DataFrame:\n",
      "       Age  Salary\n",
      "Name              \n",
      "Geek1   25   50000\n",
      "Geek2   30   60000\n",
      "Geek3   22   45000\n",
      "Geek4   35   70000\n",
      "Geek5   28   55000\n",
      "\n",
      "Extracted Row (Geek1):\n",
      "Age          25\n",
      "Salary    50000\n",
      "Name: Geek1, dtype: int64\n",
      "\n",
      "Extracted Rows (Geek2 to Geek3):\n",
      "       Age  Salary\n",
      "Name              \n",
      "Geek2   30   60000\n",
      "Geek3   22   45000\n"
     ]
    }
   ],
   "source": [
    "#iloc v2\n",
    "# Creating a sample DataFrame\n",
    "data = pd.DataFrame({\n",
    "    'Name': ['Geek1', 'Geek2', 'Geek3', 'Geek4', 'Geek5'],\n",
    "    'Age': [25, 30, 22, 35, 28],\n",
    "    'Salary': [50000, 60000, 45000, 70000, 55000]\n",
    "})\n",
    " \n",
    "# Setting 'Name' column as the index for clarity\n",
    "data.set_index('Name', inplace=True)\n",
    " \n",
    "# Displaying the original DataFrame\n",
    "print(\"Original DataFrame:\")\n",
    "print(data)\n",
    " \n",
    "# Extracting a single row by index\n",
    "row_alice = data.iloc[0, :]\n",
    "print(\"\\nExtracted Row (Geek1):\")\n",
    "print(row_alice)\n",
    " \n",
    "# Extracting multiple rows using a slice\n",
    "rows_geek2_to_geek3 = data.iloc[1:3, :]\n",
    "print(\"\\nExtracted Rows (Geek2 to Geek3):\")\n",
    "print(rows_geek2_to_geek3)"
   ]
  },
  {
   "cell_type": "code",
   "execution_count": 36,
   "id": "f7d9d4e4-e66f-4c6a-ad2f-3f3809914305",
   "metadata": {},
   "outputs": [],
   "source": [
    "#STR SLICING"
   ]
  },
  {
   "cell_type": "code",
   "execution_count": 37,
   "id": "8248e8bb-e730-4004-ad3b-0f921b1e6af8",
   "metadata": {},
   "outputs": [
    {
     "name": "stdout",
     "output_type": "stream",
     "text": [
      "               Name            Team  Number Position   Age Height  Weight  \\\n",
      "0     Avery Bradley  Boston Celtics     0.0       PG  25.0    6-2   180.0   \n",
      "1       Jae Crowder  Boston Celtics    99.0       SF  25.0    6-6   235.0   \n",
      "3       R.J. Hunter  Boston Celtics    28.0       SG  22.0    6-5   185.0   \n",
      "6     Jordan Mickey  Boston Celtics    55.0       PF  21.0    6-8   235.0   \n",
      "7      Kelly Olynyk  Boston Celtics    41.0        C  25.0    7-0   238.0   \n",
      "8      Terry Rozier  Boston Celtics    12.0       PG  22.0    6-2   190.0   \n",
      "9      Marcus Smart  Boston Celtics    36.0       PG  22.0    6-4   220.0   \n",
      "10  Jared Sullinger  Boston Celtics     7.0        C  24.0    6-9   260.0   \n",
      "11    Isaiah Thomas  Boston Celtics     4.0       PG  27.0    5-9   185.0   \n",
      "12      Evan Turner  Boston Celtics    11.0       SG  27.0    6-7   220.0   \n",
      "\n",
      "           College     Salary Salary (int)  \n",
      "0            Texas  7730337.0      7730337  \n",
      "1        Marquette  6796117.0      6796117  \n",
      "3    Georgia State  1148640.0      1148640  \n",
      "6              LSU  1170960.0      1170960  \n",
      "7          Gonzaga  2165160.0      2165160  \n",
      "8       Louisville  1824360.0      1824360  \n",
      "9   Oklahoma State  3431040.0      3431040  \n",
      "10      Ohio State  2569260.0      2569260  \n",
      "11      Washington  6912869.0      6912869  \n",
      "12      Ohio State  3425510.0      3425510  \n"
     ]
    }
   ],
   "source": [
    "data = pd.read_csv(\"nba.csv\")  \n",
    "    \n",
    "# removing null values to avoid errors  \n",
    "data.dropna(inplace = True)  \n",
    "  \n",
    "# start stop and step variables \n",
    "start, stop, step = 0, -2, 1\n",
    "  \n",
    "# converting to string data type \n",
    "data[\"Salary\"]= data[\"Salary\"].astype(str) \n",
    "  \n",
    "# slicing till 2nd last element \n",
    "data[\"Salary (int)\"]= data[\"Salary\"].str.slice(start, stop, step) \n",
    "  \n",
    "# display \n",
    "print(data.head(10)) "
   ]
  },
  {
   "cell_type": "code",
   "execution_count": 38,
   "id": "d3ea30eb-2cfd-4e2d-b3d6-ed7e43b822fb",
   "metadata": {},
   "outputs": [
    {
     "name": "stdout",
     "output_type": "stream",
     "text": [
      "       Name            Team  Number Position   Age Height  Weight  \\\n",
      "0    AeyBal  Boston Celtics     0.0       PG  25.0    6-2   180.0   \n",
      "1     JeCod  Boston Celtics    99.0       SF  25.0    6-6   235.0   \n",
      "3     RJ ut  Boston Celtics    28.0       SG  22.0    6-5   185.0   \n",
      "6    Jra ik  Boston Celtics    55.0       PF  21.0    6-8   235.0   \n",
      "7     KlyOy  Boston Celtics    41.0        C  25.0    7-0   238.0   \n",
      "8     TryRz  Boston Celtics    12.0       PG  22.0    6-2   190.0   \n",
      "9     Mru m  Boston Celtics    36.0       PG  22.0    6-4   220.0   \n",
      "10  JrdSlig  Boston Celtics     7.0        C  24.0    6-9   260.0   \n",
      "11   Iaa hm  Boston Celtics     4.0       PG  27.0    5-9   185.0   \n",
      "12    Ea un  Boston Celtics    11.0       SG  27.0    6-7   220.0   \n",
      "\n",
      "           College     Salary  \n",
      "0            Texas  7730337.0  \n",
      "1        Marquette  6796117.0  \n",
      "3    Georgia State  1148640.0  \n",
      "6              LSU  1170960.0  \n",
      "7          Gonzaga  2165160.0  \n",
      "8       Louisville  1824360.0  \n",
      "9   Oklahoma State  3431040.0  \n",
      "10      Ohio State  2569260.0  \n",
      "11      Washington  6912869.0  \n",
      "12      Ohio State  3425510.0  \n"
     ]
    }
   ],
   "source": [
    "data = pd.read_csv(\"nba.csv\")\n",
    "    \n",
    "# removing null values to avoid errors  \n",
    "data.dropna(inplace = True)  \n",
    "  \n",
    "# start stop and step variables \n",
    "start, stop, step = 0, -2, 2\n",
    "  \n",
    "# slicing till 2nd last element \n",
    "data[\"Name\"]= data[\"Name\"].str.slice(start, stop, step) \n",
    "  \n",
    "# display \n",
    "print(data.head(10))"
   ]
  },
  {
   "cell_type": "code",
   "execution_count": 39,
   "id": "f26c1805-f516-47d9-a2a5-8c2be914f5eb",
   "metadata": {},
   "outputs": [],
   "source": [
    "#COLUMN SLICES"
   ]
  },
  {
   "cell_type": "code",
   "execution_count": 40,
   "id": "2ddce25f-3157-427c-ba7d-a9292e7dad02",
   "metadata": {},
   "outputs": [
    {
     "name": "stdout",
     "output_type": "stream",
     "text": [
      "   a  b  c  d  e\n",
      "0  1  2  3  4  5\n",
      "1  2  3  4  5  6\n",
      "2  3  4  5  6  7\n",
      "3  4  2  2  2  2\n",
      "4  5  3  3  3  3\n",
      "5  6  4  4  4  4\n",
      "6  7  5  5  5  5\n",
      "\n",
      "   c  b\n",
      "0  3  2\n",
      "1  4  3\n",
      "2  5  4\n",
      "3  2  2\n",
      "4  3  3\n",
      "5  4  4\n",
      "6  5  5\n",
      "\n",
      "   b  d\n",
      "0  2  4\n",
      "1  3  5\n",
      "2  4  6\n",
      "3  2  2\n",
      "4  3  3\n",
      "5  4  4\n",
      "6  5  5\n",
      "\n",
      "   c  d  e\n",
      "0  3  4  5\n",
      "1  4  5  6\n",
      "2  5  6  7\n",
      "3  2  2  2\n",
      "4  3  3  3\n",
      "5  4  4  4\n",
      "6  5  5  5\n",
      "\n",
      "   b  c\n",
      "0  2  3\n",
      "1  3  4\n",
      "2  4  5\n",
      "3  2  2\n",
      "4  3  3\n",
      "5  4  4\n",
      "6  5  5\n",
      "\n",
      "   a  c\n",
      "0  1  3\n",
      "1  2  4\n",
      "2  3  5\n",
      "3  4  2\n",
      "4  5  3\n",
      "5  6  4\n",
      "6  7  5\n"
     ]
    }
   ],
   "source": [
    "df1 = pd.DataFrame({\"a\": [1, 2, 3, 4, 5, 6, 7], \n",
    "                    \"b\": [2, 3, 4, 2, 3, 4, 5], \n",
    "                    \"c\": [3, 4, 5, 2, 3, 4, 5], \n",
    "                    \"d\": [4, 5, 6, 2, 3, 4, 5], \n",
    "                    \"e\": [5, 6, 7, 2, 3, 4, 5]})\n",
    " \n",
    "print(df1)\n",
    "\n",
    "df2 = df1.reindex(columns = ['c','b'])\n",
    "print()\n",
    "print(df2)\n",
    "\n",
    "df2 = df1.loc[:, \"b\":\"d\":2]\n",
    "print()\n",
    "print(df2)\n",
    "\n",
    "df2 = df1.loc[:, \"c\":\"e\":1]\n",
    "print()\n",
    "print(df2)\n",
    "\n",
    "df2 = df1.iloc[:, 1:3:1]\n",
    "print()\n",
    "print(df2)\n",
    "\n",
    "df2 = df1.iloc[:, 0:3:2]\n",
    "print()\n",
    "print(df2)"
   ]
  },
  {
   "cell_type": "code",
   "execution_count": 41,
   "id": "b535c2e6-fe6b-4b3d-ad5e-fb4317724560",
   "metadata": {},
   "outputs": [],
   "source": [
    "#APPLY"
   ]
  },
  {
   "cell_type": "code",
   "execution_count": 42,
   "id": "8e316f7c-6c71-44b1-96b5-cc655ebec1e6",
   "metadata": {},
   "outputs": [
    {
     "name": "stdout",
     "output_type": "stream",
     "text": [
      "Original DataFrame:\n",
      "    A  B  C\n",
      "0  1  4  7\n",
      "1  2  5  8\n",
      "2  3  6  9\n",
      "\n",
      "After Applying Function: \n",
      "   A  B  C  add\n",
      "0  1  4  7   12\n",
      "1  2  5  8   15\n",
      "2  3  6  9   18\n"
     ]
    }
   ],
   "source": [
    "#Applying User-Defined Function to Every Row of Pandas DataFrame\n",
    "# Function to add\n",
    "def add_values(row):\n",
    "    return row['A'] + row['B'] + row['C']\n",
    " \n",
    "def main():\n",
    "    # Create a dictionary with three fields each\n",
    "    data = {\n",
    "        'A': [1, 2, 3],\n",
    "        'B': [4, 5, 6],\n",
    "        'C': [7, 8, 9]}\n",
    " \n",
    "    # Convert the dictionary into DataFrame\n",
    "    df = pd.DataFrame(data)\n",
    "    print(\"Original DataFrame:\\n\", df)\n",
    " \n",
    "    # Apply the user-defined function to every row\n",
    "    df['add'] = df.apply(add_values, axis=1)\n",
    " \n",
    "    print('\\nAfter Applying Function: ')\n",
    "    # Print the new DataFrame\n",
    "    print(df)\n",
    " \n",
    "if __name__ == '__main__':\n",
    "    main()"
   ]
  },
  {
   "cell_type": "code",
   "execution_count": 43,
   "id": "8052f2f7-a617-40da-bb7c-461aac8e86cb",
   "metadata": {},
   "outputs": [],
   "source": [
    "#Apply Lambda to Every Row of DataFrame"
   ]
  },
  {
   "cell_type": "code",
   "execution_count": 44,
   "id": "c6bffb7f-e9a3-49f5-8197-61c0e17c3210",
   "metadata": {},
   "outputs": [
    {
     "name": "stdout",
     "output_type": "stream",
     "text": [
      "Original DataFrame:\n",
      "    A  B  C\n",
      "0  1  4  7\n",
      "1  2  5  8\n",
      "2  3  6  9\n",
      "\n",
      "After Applying Function: \n",
      "   A  B  C  add\n",
      "0  1  4  7   12\n",
      "1  2  5  8   15\n",
      "2  3  6  9   18\n"
     ]
    }
   ],
   "source": [
    "def main():\n",
    "    # create a dictionary with\n",
    "    # three fields each\n",
    "    data = {\n",
    "        'A': [1, 2, 3],\n",
    "        'B': [4, 5, 6],\n",
    "        'C': [7, 8, 9]}\n",
    " \n",
    "    # Convert the dictionary into DataFrame\n",
    "    df = pd.DataFrame(data)\n",
    "    print(\"Original DataFrame:\\n\", df)\n",
    " \n",
    "    df['add'] = df.apply(lambda row: row['A'] + row['B'] + row['C'], axis=1)\n",
    " \n",
    "    print('\\nAfter Applying Function: ')\n",
    "    # printing the new dataframe\n",
    "    print(df)\n",
    " \n",
    "if __name__ == '__main__':\n",
    "    main()"
   ]
  },
  {
   "cell_type": "code",
   "execution_count": 45,
   "id": "12bd4ba8-1f19-4967-9b65-6969da725721",
   "metadata": {},
   "outputs": [
    {
     "name": "stdout",
     "output_type": "stream",
     "text": [
      "Original DataFrame:\n",
      "    A  B  C\n",
      "0  1  4  7\n",
      "1  2  5  8\n",
      "2  3  6  9\n",
      "\n",
      "After Applying Function: \n",
      "   A  B  C  add\n",
      "0  1  4  7   12\n",
      "1  2  5  8   15\n",
      "2  3  6  9   18\n"
     ]
    }
   ],
   "source": [
    "#Apply NumPy.sum() to Every Row\n",
    "def main():\n",
    "    # create a dictionary with\n",
    "    # five fields each\n",
    "    data = {\n",
    "        'A': [1, 2, 3],\n",
    "        'B': [4, 5, 6],\n",
    "        'C': [7, 8, 9]}\n",
    " \n",
    "    # Convert the dictionary into DataFrame\n",
    "    df = pd.DataFrame(data)\n",
    "    print(\"Original DataFrame:\\n\", df)\n",
    " \n",
    "    # applying function to each row in the dataframe\n",
    "    # and storing result in a new column\n",
    "    df['add'] = df.apply(np.sum, axis=1)\n",
    " \n",
    "    print('\\nAfter Applying Function: ')\n",
    "    # printing the new dataframe\n",
    "    print(df)\n",
    " \n",
    "if __name__ == '__main__':\n",
    "    main()"
   ]
  },
  {
   "cell_type": "code",
   "execution_count": 46,
   "id": "98ab2f83-2cbf-42ab-b52d-1258db4d1ed9",
   "metadata": {},
   "outputs": [
    {
     "name": "stdout",
     "output_type": "stream",
     "text": [
      "Original DataFrame:\n",
      "    X   Y\n",
      "0  1  45\n",
      "1  2  65\n",
      "2  3  89\n",
      "\n",
      "Normalized:\n",
      "     X   Y\n",
      "0 -0.5  45\n",
      "1 -0.5  65\n",
      "2 -0.5  89\n"
     ]
    }
   ],
   "source": [
    "# Normalizing DataFrame Column Values Using Custom Function in Pandas\n",
    "def normalize(x, y):\n",
    "    x_new = ((x - np.mean([x, y])) /\n",
    "             (max(x, y) - min(x, y)))\n",
    " \n",
    "    # print(x_new)\n",
    "    return x_new\n",
    " \n",
    "def main():\n",
    "    # create a dictionary with three fields each\n",
    "    data = {\n",
    "        'X': [1, 2, 3],\n",
    "        'Y': [45, 65, 89]}\n",
    " \n",
    "    # Convert the dictionary into DataFrame\n",
    "    df = pd.DataFrame(data)\n",
    "    print(\"Original DataFrame:\\n\", df)\n",
    " \n",
    "    df['X'] = df.apply(lambda row: normalize(row['X'],\n",
    "                                             row['Y']), axis=1)\n",
    " \n",
    "    print('\\nNormalized:')\n",
    "    print(df)\n",
    " \n",
    "if __name__ == '__main__':\n",
    "    main()"
   ]
  },
  {
   "cell_type": "code",
   "execution_count": 47,
   "id": "09ef861a-78a2-423d-afdf-30c21430f56f",
   "metadata": {},
   "outputs": [
    {
     "name": "stdout",
     "output_type": "stream",
     "text": [
      "Before applying function: \n",
      "   A   B   C\n",
      "0  0   4  47\n",
      "1  2  15   8\n",
      "2  3   6  19\n",
      "After Applying Function: \n",
      "      A      B      C\n",
      "0  0-10   0-10  40-50\n",
      "1  0-10  10-20   0-10\n",
      "2  0-10   0-10  10-20\n"
     ]
    },
    {
     "name": "stderr",
     "output_type": "stream",
     "text": [
      "/tmp/ipykernel_94196/1426715036.py:22: FutureWarning: Setting an item of incompatible dtype is deprecated and will raise an error in a future version of pandas. Value '0-10' has dtype incompatible with int64, please explicitly cast to a compatible dtype first.\n",
      "  row[i] = generate_range(item)\n",
      "/tmp/ipykernel_94196/1426715036.py:22: FutureWarning: Setting an item of incompatible dtype is deprecated and will raise an error in a future version of pandas. Value '0-10' has dtype incompatible with int64, please explicitly cast to a compatible dtype first.\n",
      "  row[i] = generate_range(item)\n",
      "/tmp/ipykernel_94196/1426715036.py:22: FutureWarning: Setting an item of incompatible dtype is deprecated and will raise an error in a future version of pandas. Value '40-50' has dtype incompatible with int64, please explicitly cast to a compatible dtype first.\n",
      "  row[i] = generate_range(item)\n"
     ]
    }
   ],
   "source": [
    "# Applying Range Generation Function to DataFrame Rows in Pandas\n",
    "pd.options.mode.chained_assignment = None\n",
    " \n",
    "# Function to generate range\n",
    " \n",
    "def generate_range(n):\n",
    " \n",
    "    # printing the range for eg:\n",
    "    # input is 67 output is 60-70\n",
    "    n = int(n)\n",
    " \n",
    "    lower_limit = n//10 * 10\n",
    "    upper_limit = lower_limit + 10\n",
    " \n",
    "    return str(str(lower_limit) + '-' + str(upper_limit))\n",
    " \n",
    " \n",
    "def replace(row):\n",
    "    for i, item in enumerate(row):\n",
    " \n",
    "        # updating the value of the row\n",
    "        row[i] = generate_range(item)\n",
    "    return row\n",
    " \n",
    "def main():\n",
    "    # create a dictionary with\n",
    "    # three fields each\n",
    "    data = {\n",
    "        'A': [0, 2, 3],\n",
    "        'B': [4, 15, 6],\n",
    "        'C': [47, 8, 19]}\n",
    " \n",
    "    # Convert the dictionary into DataFrame\n",
    "    df = pd.DataFrame(data)\n",
    " \n",
    "    print('Before applying function: ')\n",
    "    print(df)\n",
    " \n",
    "    # applying function to each row in\n",
    "    # dataframe and storing result in a new column\n",
    "    df = df.apply(lambda row: replace(row))\n",
    " \n",
    "    print('After Applying Function: ')\n",
    "    # printing the new dataframe\n",
    "    print(df)\n",
    " \n",
    " \n",
    "if __name__ == '__main__':\n",
    "    main()"
   ]
  },
  {
   "cell_type": "code",
   "execution_count": 48,
   "id": "a4afda41-1cf0-4320-9ad3-9ca46f8d27b6",
   "metadata": {},
   "outputs": [],
   "source": [
    "#Series apply"
   ]
  },
  {
   "cell_type": "code",
   "execution_count": 49,
   "id": "3f0f1758-bdc6-4e71-a8dc-0e9231dd5dea",
   "metadata": {},
   "outputs": [
    {
     "name": "stdout",
     "output_type": "stream",
     "text": [
      "City 1    New York\n",
      "City 2     Chicago\n",
      "City 3     Toronto\n",
      "City 4      Lisbon\n",
      "City 5         Rio\n",
      "dtype: object\n",
      "City 1    New York\n",
      "City 2     Chicago\n",
      "City 3     Toronto\n",
      "City 4      Lisbon\n",
      "City 5    Montreal\n",
      "dtype: object\n",
      "2010-12-31 08:45:00    11.0\n",
      "2011-12-31 08:45:00    21.0\n",
      "2012-12-31 08:45:00     8.0\n",
      "2013-12-31 08:45:00    18.0\n",
      "2014-12-31 08:45:00    65.0\n",
      "2015-12-31 08:45:00    18.0\n",
      "2016-12-31 08:45:00    32.0\n",
      "2017-12-31 08:45:00    10.0\n",
      "2018-12-31 08:45:00     5.0\n",
      "2019-12-31 08:45:00    32.0\n",
      "2020-12-31 08:45:00     NaN\n",
      "Freq: YE-DEC, dtype: float64\n",
      "2010-12-31 08:45:00    False\n",
      "2011-12-31 08:45:00    False\n",
      "2012-12-31 08:45:00    False\n",
      "2013-12-31 08:45:00    False\n",
      "2014-12-31 08:45:00     True\n",
      "2015-12-31 08:45:00    False\n",
      "2016-12-31 08:45:00     True\n",
      "2017-12-31 08:45:00    False\n",
      "2018-12-31 08:45:00    False\n",
      "2019-12-31 08:45:00     True\n",
      "2020-12-31 08:45:00    False\n",
      "Freq: YE-DEC, dtype: bool\n"
     ]
    }
   ],
   "source": [
    "# Creating the Series \n",
    "sr = pd.Series(['New York', 'Chicago', 'Toronto', 'Lisbon', 'Rio']) \n",
    "  \n",
    "# Create the Index \n",
    "index_ = ['City 1', 'City 2', 'City 3', 'City 4', 'City 5']  \n",
    "  \n",
    "# set the index \n",
    "sr.index = index_ \n",
    "  \n",
    "# Print the series \n",
    "print(sr) \n",
    "\n",
    "\n",
    "result = sr.apply(lambda x : 'Montreal' if x =='Rio' else x ) \n",
    "  \n",
    "# Print the result \n",
    "print(result) \n",
    "'''\n",
    "'''\n",
    "sr = pd.Series([11, 21, 8, 18, 65, 18, 32, 10, 5, 32, None]) \n",
    "  \n",
    "# Create the Index \n",
    "# apply yearly frequency \n",
    "index_ = pd.date_range('2010-10-09 08:45', periods = 11, freq ='YE') \n",
    "  \n",
    "# set the index \n",
    "sr.index = index_ \n",
    "  \n",
    "# Print the series \n",
    "print(sr) \n",
    "\n",
    "\n",
    "result = sr.apply(lambda x : True if x>30 else False) \n",
    "  \n",
    "# Print the result \n",
    "print(result) "
   ]
  },
  {
   "cell_type": "code",
   "execution_count": 50,
   "id": "0e74e720-d798-46f4-8d13-8764257fa80d",
   "metadata": {},
   "outputs": [],
   "source": [
    "#AGGREGATE"
   ]
  },
  {
   "cell_type": "code",
   "execution_count": 3,
   "id": "35a9841e-b951-47cc-a1a6-eb8e879085ef",
   "metadata": {},
   "outputs": [
    {
     "name": "stdout",
     "output_type": "stream",
     "text": [
      "            Name            Team  Number Position   Age Height  Weight  \\\n",
      "0  Avery Bradley  Boston Celtics     0.0       PG  25.0    6-2   180.0   \n",
      "1    Jae Crowder  Boston Celtics    99.0       SF  25.0    6-6   235.0   \n",
      "2   John Holland  Boston Celtics    30.0       SG  27.0    6-5   205.0   \n",
      "3    R.J. Hunter  Boston Celtics    28.0       SG  22.0    6-5   185.0   \n",
      "4  Jonas Jerebko  Boston Celtics     8.0       PF  29.0   6-10   231.0   \n",
      "5   Amir Johnson  Boston Celtics    90.0       PF  29.0    6-9   240.0   \n",
      "6  Jordan Mickey  Boston Celtics    55.0       PF  21.0    6-8   235.0   \n",
      "7   Kelly Olynyk  Boston Celtics    41.0        C  25.0    7-0   238.0   \n",
      "8   Terry Rozier  Boston Celtics    12.0       PG  22.0    6-2   190.0   \n",
      "9   Marcus Smart  Boston Celtics    36.0       PG  22.0    6-4   220.0   \n",
      "\n",
      "             College      Salary  \n",
      "0              Texas   7730337.0  \n",
      "1          Marquette   6796117.0  \n",
      "2  Boston University         NaN  \n",
      "3      Georgia State   1148640.0  \n",
      "4                NaN   5000000.0  \n",
      "5                NaN  12000000.0  \n",
      "6                LSU   1170960.0  \n",
      "7            Gonzaga   2165160.0  \n",
      "8         Louisville   1824360.0  \n",
      "9     Oklahoma State   3431040.0  \n",
      "       Salary\n",
      "0   7730337.0\n",
      "1   6796117.0\n",
      "2         NaN\n",
      "3   1148640.0\n",
      "4   5000000.0\n",
      "5  12000000.0\n",
      "6   1170960.0\n",
      "7   2165160.0\n",
      "8   1824360.0\n",
      "9   3431040.0\n",
      "           Salary\n",
      "sum  2.159837e+09\n",
      "min  3.088800e+04\n"
     ]
    }
   ],
   "source": [
    "df = pd.read_csv(\"nba.csv\") \n",
    "  \n",
    "# printing the first 10 rows of the dataframe \n",
    "print(df[:10])\n",
    "df = df.iloc[:,-1:]\n",
    "print(df[:10])\n",
    "print(df.aggregate(['sum', 'min']))"
   ]
  },
  {
   "cell_type": "code",
   "execution_count": 4,
   "id": "a124547b-5f8a-4be6-849e-ee87f8fa4d3c",
   "metadata": {},
   "outputs": [
    {
     "name": "stdout",
     "output_type": "stream",
     "text": [
      "     Number   Age    Weight        Salary\n",
      "sum  8079.0   NaN  101236.0  2.159837e+09\n",
      "min     0.0  19.0     161.0           NaN\n",
      "max     NaN  40.0       NaN           NaN\n"
     ]
    }
   ],
   "source": [
    "df = pd.read_csv(\"nba.csv\") \n",
    "  \n",
    "# We are going to find aggregation for these columns \n",
    "print(df.aggregate({\"Number\":['sum', 'min'], \n",
    "              \"Age\":['max', 'min'], \n",
    "              \"Weight\":['min', 'sum'],  \n",
    "              \"Salary\":['sum']})) "
   ]
  },
  {
   "cell_type": "code",
   "execution_count": 52,
   "id": "c4b5cb63-23b9-4fd5-aea4-9ce76ffe8234",
   "metadata": {},
   "outputs": [],
   "source": [
    "#MEAN"
   ]
  },
  {
   "cell_type": "code",
   "execution_count": 53,
   "id": "25b72bf4-6bae-4edb-8bbb-484f1ab0cd0b",
   "metadata": {},
   "outputs": [
    {
     "name": "stdout",
     "output_type": "stream",
     "text": [
      "    A   B   C   D\n",
      "0  12   5  20  14\n",
      "1   4   2  16   3\n",
      "2   5  54   7  17\n",
      "3  44   3   3   2\n",
      "4   1   2   8   6\n",
      "0    12.75\n",
      "1     6.25\n",
      "2    20.75\n",
      "3    13.00\n",
      "4     4.25\n",
      "dtype: float64\n"
     ]
    }
   ],
   "source": [
    "df = pd.DataFrame({\"A\":[12, 4, 5, 44, 1], \n",
    "                \"B\":[5, 2, 54, 3, 2], \n",
    "                \"C\":[20, 16, 7, 3, 8], \n",
    "                \"D\":[14, 3, 17, 2, 6]}) \n",
    "  \n",
    "# Print the dataframe \n",
    "print(df) \n",
    "\n",
    "# Even if we do not specify axis = 0, \n",
    "# the method will return the mean over \n",
    "# the index axis by default \n",
    "print(df.mean(axis = 1))"
   ]
  },
  {
   "cell_type": "code",
   "execution_count": 54,
   "id": "f1edc793-d352-40d7-aeb0-90c1402f5cff",
   "metadata": {},
   "outputs": [
    {
     "name": "stdout",
     "output_type": "stream",
     "text": [
      "0    13.250000\n",
      "1     6.250000\n",
      "2    23.333333\n",
      "3     2.666667\n",
      "4     5.000000\n",
      "dtype: float64\n"
     ]
    }
   ],
   "source": [
    "# Creating the dataframe \n",
    "df = pd.DataFrame({\"A\":[12, 4, 5, None, 1], \n",
    "                \"B\":[7, 2, 54, 3, None], \n",
    "                \"C\":[20, 16, 11, 3, 8],\n",
    "                \"D\":[14, 3, None, 2, 6]}) \n",
    "  \n",
    "# skip the Na values while finding the mean \n",
    "print(df.mean(axis = 1, skipna = True))"
   ]
  },
  {
   "cell_type": "code",
   "execution_count": 55,
   "id": "34aaf9e9-c33b-4578-93f1-bfedbbc86cc3",
   "metadata": {},
   "outputs": [],
   "source": [
    "#SERIES MEAN"
   ]
  },
  {
   "cell_type": "code",
   "execution_count": 56,
   "id": "90cacc37-a4a7-470f-aa90-856566a2e8b2",
   "metadata": {},
   "outputs": [
    {
     "name": "stdout",
     "output_type": "stream",
     "text": [
      "Coca Cola    10\n",
      "Sprite       25\n",
      "Coke          3\n",
      "Fanta        25\n",
      "Dew          24\n",
      "ThumbsUp      6\n",
      "dtype: int64\n",
      "15.5\n"
     ]
    }
   ],
   "source": [
    "sr = pd.Series([10, 25, 3, 25, 24, 6]) \n",
    "  \n",
    "# Create the Index \n",
    "index_ = ['Coca Cola', 'Sprite', 'Coke', 'Fanta', 'Dew', 'ThumbsUp'] \n",
    "  \n",
    "# set the index \n",
    "sr.index = index_ \n",
    "  \n",
    "# Print the series \n",
    "print(sr) \n",
    "\n",
    "\n",
    "# return the mean \n",
    "result = sr.mean() \n",
    "  \n",
    "# Print the result \n",
    "print(result) "
   ]
  },
  {
   "cell_type": "code",
   "execution_count": 57,
   "id": "b8e138db-e864-40ed-92b5-b9abe9c57767",
   "metadata": {},
   "outputs": [],
   "source": [
    "# Creating the Series "
   ]
  },
  {
   "cell_type": "code",
   "execution_count": 58,
   "id": "093771d7-fcad-4eab-9351-18666338a241",
   "metadata": {},
   "outputs": [],
   "source": [
    "#SEIRES VALUES_COUNTS"
   ]
  },
  {
   "cell_type": "code",
   "execution_count": 59,
   "id": "b8cbc0a6-1931-479b-abec-877b912af64c",
   "metadata": {},
   "outputs": [
    {
     "name": "stdout",
     "output_type": "stream",
     "text": [
      "0    New York\n",
      "1     Chicago\n",
      "2     Toronto\n",
      "3      Lisbon\n",
      "4         Rio\n",
      "5     Chicago\n",
      "6      Lisbon\n",
      "dtype: object\n",
      "Chicago     2\n",
      "Lisbon      2\n",
      "New York    1\n",
      "Toronto     1\n",
      "Rio         1\n",
      "Name: count, dtype: int64\n",
      "0    100.0\n",
      "1    214.0\n",
      "2    325.0\n",
      "3     88.0\n",
      "4      NaN\n",
      "5    325.0\n",
      "6      NaN\n",
      "7    325.0\n",
      "8    100.0\n",
      "dtype: float64\n"
     ]
    }
   ],
   "source": [
    "# Creating the Series \n",
    "sr = pd.Series(['New York', 'Chicago', 'Toronto', 'Lisbon', 'Rio', 'Chicago', 'Lisbon']) \n",
    "  \n",
    "# Print the series \n",
    "print(sr) \n",
    "# find the value counts \n",
    "print(sr.value_counts() )\n",
    "# Creating the Series \n",
    "sr = pd.Series([100, 214, 325, 88, None, 325, None, 325, 100]) \n",
    "# Print the series \n",
    "print(sr)"
   ]
  },
  {
   "cell_type": "code",
   "execution_count": 60,
   "id": "c5f11349-4833-4e32-8b94-91dd613f6c32",
   "metadata": {},
   "outputs": [],
   "source": [
    "#INDEX VALUE_COUNTS"
   ]
  },
  {
   "cell_type": "code",
   "execution_count": 61,
   "id": "5b4dadf5-32b0-4b2e-8693-86d29287c6c8",
   "metadata": {},
   "outputs": [
    {
     "name": "stdout",
     "output_type": "stream",
     "text": [
      "Index(['Harry', 'Mike', 'Arther', 'Nick', 'Harry', 'Arther'], dtype='object', name='Student')\n",
      "Student\n",
      "Harry     2\n",
      "Arther    2\n",
      "Mike      1\n",
      "Nick      1\n",
      "Name: count, dtype: int64\n"
     ]
    }
   ],
   "source": [
    "# Creating the index\n",
    "idx = pd.Index(['Harry', 'Mike', 'Arther', 'Nick',\n",
    "                'Harry', 'Arther'], name ='Student')\n",
    " \n",
    "# Print the Index\n",
    "print(idx)\n",
    "# find the count of unique values in the index\n",
    "print(idx.value_counts())"
   ]
  },
  {
   "cell_type": "code",
   "execution_count": 62,
   "id": "61e78259-49dc-49ce-918e-c3a4ccffcccf",
   "metadata": {},
   "outputs": [],
   "source": [
    "#Dataframe.assign() on a Single Column"
   ]
  },
  {
   "cell_type": "code",
   "execution_count": 63,
   "id": "36ea630a-2063-412c-99cb-5a6967222108",
   "metadata": {},
   "outputs": [
    {
     "name": "stdout",
     "output_type": "stream",
     "text": [
      "      Name  Total_Marks  Percentage\n",
      "0    Rohan          455        91.0\n",
      "1   Elvish          250        50.0\n",
      "2   Deepak          495        99.0\n",
      "3     Soni          400        80.0\n",
      "4  Radhika          350        70.0\n",
      "5    Vansh          450        90.0\n"
     ]
    }
   ],
   "source": [
    "values= [['Rohan',455],['Elvish',250],['Deepak',495],\n",
    "         ['Soni',400],['Radhika',350],['Vansh',450]] \n",
    " \n",
    "# creating a pandas dataframe\n",
    "df = pd.DataFrame(values,columns=['Name','Total_Marks'])\n",
    " \n",
    "# Applying lambda function to find \n",
    "# percentage of 'Total_Marks' column \n",
    "# using df.assign()\n",
    "df = df.assign(Percentage = lambda x: (x['Total_Marks'] /500 * 100))\n",
    " \n",
    "# displaying the data frame\n",
    "print(df)"
   ]
  },
  {
   "cell_type": "code",
   "execution_count": 64,
   "id": "3ccedb2f-d9cb-4a64-afc8-0155a1549425",
   "metadata": {},
   "outputs": [
    {
     "name": "stdout",
     "output_type": "stream",
     "text": [
      "   Field_1  Field_2  Field_3  Product\n",
      "0       15      2.5      100   3750.0\n",
      "1       20      4.5       50   4500.0\n",
      "2       25      5.2       80  10400.0\n",
      "3       45      5.8       48  12528.0\n",
      "4       40      6.3       70  17640.0\n",
      "5       41      6.4       90  23616.0\n",
      "6       51      2.3      111  13020.3\n"
     ]
    }
   ],
   "source": [
    "#Dataframe.assign() on Multiple Columns\n",
    "values_list = [[15, 2.5, 100], [20, 4.5, 50], [25, 5.2, 80],\n",
    "               [45, 5.8, 48], [40, 6.3, 70], [41, 6.4, 90],\n",
    "               [51, 2.3, 111]]\n",
    " \n",
    "# creating a pandas dataframe\n",
    "df = pd.DataFrame(values_list, columns=['Field_1', 'Field_2', 'Field_3'])\n",
    " \n",
    "# Applying lambda function to find\n",
    "# the product of 3 columns using\n",
    "# df.assign()\n",
    "df = df.assign(Product=lambda x: (x['Field_1'] * x['Field_2'] * x['Field_3']))\n",
    " \n",
    "# printing dataframe\n",
    "print(df)"
   ]
  },
  {
   "cell_type": "code",
   "execution_count": 65,
   "id": "bd7022bf-b88b-46c4-bae9-9f62437a20cb",
   "metadata": {},
   "outputs": [
    {
     "name": "stdout",
     "output_type": "stream",
     "text": [
      "   Field_1  Field_2  Field_3\n",
      "a     15.0     2.50    100.0\n",
      "b     20.0     4.50     50.0\n",
      "c     25.0     5.20     80.0\n",
      "d   2025.0    33.64   2304.0\n",
      "e     40.0     6.30     70.0\n",
      "f     41.0     6.40     90.0\n",
      "g     51.0     2.30    111.0\n"
     ]
    }
   ],
   "source": [
    "#Dataframe.apply() on a Single Row\n",
    "values_list = [[15, 2.5, 100], [20, 4.5, 50], [25, 5.2, 80],\n",
    "               [45, 5.8, 48], [40, 6.3, 70], [41, 6.4, 90], \n",
    "               [51, 2.3, 111]]\n",
    " \n",
    "# creating a pandas dataframe\n",
    "df = pd.DataFrame(values_list, columns=['Field_1', 'Field_2', 'Field_3'],\n",
    "                  index=['a', 'b', 'c', 'd', 'e', 'f', 'g'])\n",
    " \n",
    " \n",
    "# Apply function numpy.square() to square\n",
    "# the values of one row only i.e. row \n",
    "# with index name 'd'\n",
    "df = df.apply(lambda x: np.square(x) if x.name == 'd' else x, axis=1)\n",
    " \n",
    " \n",
    "# printing dataframe\n",
    "print(df)"
   ]
  },
  {
   "cell_type": "code",
   "execution_count": 66,
   "id": "0646babc-6a22-4558-b4cc-9b7c45a3ce13",
   "metadata": {},
   "outputs": [
    {
     "name": "stdout",
     "output_type": "stream",
     "text": [
      "   Field_1  Field_2  Field_3\n",
      "a    225.0     6.25  10000.0\n",
      "b     20.0     4.50     50.0\n",
      "c     25.0     5.20     80.0\n",
      "d     45.0     5.80     48.0\n",
      "e   1600.0    39.69   4900.0\n",
      "f     41.0     6.40     90.0\n",
      "g   2601.0     5.29  12321.0\n"
     ]
    }
   ],
   "source": [
    "#Dataframe.apply() on Multiple Rows\n",
    "values_list = [[15, 2.5, 100], [20, 4.5, 50], [25, 5.2, 80],\n",
    "               [45, 5.8, 48], [40, 6.3, 70], [41, 6.4, 90],\n",
    "               [51, 2.3, 111]]\n",
    " \n",
    "# creating a pandas dataframe\n",
    "df = pd.DataFrame(values_list, columns=['Field_1', 'Field_2', 'Field_3'],\n",
    "                  index=['a', 'b', 'c', 'd', 'e', 'f', 'g'])\n",
    " \n",
    " \n",
    "# Apply function numpy.square() to square \n",
    "# the values of 3 rows only i.e. with row\n",
    "# index name 'a', 'e' and 'g' only\n",
    "df = df.apply(lambda x: np.square(x) if x.name in [\n",
    "              'a', 'e', 'g'] else x, axis=1)\n",
    " \n",
    "# printing dataframe\n",
    "print(df)"
   ]
  },
  {
   "cell_type": "code",
   "execution_count": 67,
   "id": "0f2d82e9-2db0-4c32-99ba-fad5606d3f5d",
   "metadata": {},
   "outputs": [
    {
     "name": "stdout",
     "output_type": "stream",
     "text": [
      "   Field_1  Field_2  Field_3     Product\n",
      "a     1.50     2.50     10.0     37.5000\n",
      "b     4.00    20.25     25.0   2025.0000\n",
      "c     2.50     5.20      8.0    104.0000\n",
      "d     4.50     5.80      4.8    125.2800\n",
      "e     4.00     6.30     70.0   1764.0000\n",
      "f    16.81    40.96     81.0  55771.5456\n",
      "g     5.10     2.30     11.1    130.2030\n"
     ]
    }
   ],
   "source": [
    "#Lambda Function on Multiple Rows and Columns Simultaneously\n",
    "# creating and initializing a nested list\n",
    "values_list = [[1.5, 2.5, 10.0], [2.0, 4.5, 5.0], [2.5, 5.2, 8.0],\n",
    "               [4.5, 5.8, 4.8], [4.0, 6.3, 70], [4.1, 6.4, 9.0],\n",
    "               [5.1, 2.3, 11.1]]\n",
    " \n",
    "# creating a pandas dataframe\n",
    "df = pd.DataFrame(values_list, columns=['Field_1', 'Field_2', 'Field_3'],\n",
    "                  index=['a', 'b', 'c', 'd', 'e', 'f', 'g'])\n",
    " \n",
    " \n",
    "# Apply function numpy.square() to square \n",
    "# the values of 2 rows only i.e. with row\n",
    "# index name 'b' and 'f' only\n",
    "df = df.apply(lambda x: np.square(x) if x.name in ['b', 'f'] else x, axis=1)\n",
    " \n",
    "# Applying lambda function to find product of 3 columns\n",
    "# i.e 'Field_1', 'Field_2' and 'Field_3'\n",
    "df = df.assign(Product=lambda x: (x['Field_1'] * x['Field_2'] * x['Field_3']))\n",
    " \n",
    " \n",
    "# printing dataframe\n",
    "print(df)"
   ]
  },
  {
   "cell_type": "code",
   "execution_count": null,
   "id": "fd098578-674e-4333-8b87-dcd1ab948354",
   "metadata": {},
   "outputs": [],
   "source": []
  }
 ],
 "metadata": {
  "kernelspec": {
   "display_name": "Python 3 (ipykernel)",
   "language": "python",
   "name": "python3"
  },
  "language_info": {
   "codemirror_mode": {
    "name": "ipython",
    "version": 3
   },
   "file_extension": ".py",
   "mimetype": "text/x-python",
   "name": "python",
   "nbconvert_exporter": "python",
   "pygments_lexer": "ipython3",
   "version": "3.9.2"
  }
 },
 "nbformat": 4,
 "nbformat_minor": 5
}
