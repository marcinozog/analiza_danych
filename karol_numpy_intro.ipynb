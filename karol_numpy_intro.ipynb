{
 "cells": [
  {
   "cell_type": "code",
   "execution_count": 1,
   "id": "ebbfaf0f-e907-4fb9-bfd9-13e4c162f250",
   "metadata": {},
   "outputs": [],
   "source": [
    "#Creating NumPy Arrays\n",
    "\n",
    "import numpy as np"
   ]
  },
  {
   "cell_type": "code",
   "execution_count": 2,
   "id": "a5651ab8-9dde-491c-921b-d783332cc095",
   "metadata": {},
   "outputs": [
    {
     "name": "stdout",
     "output_type": "stream",
     "text": [
      "[1 2 3 4 5 6]\n",
      "[[0. 0. 0.]\n",
      " [0. 0. 0.]\n",
      " [0. 0. 0.]]\n",
      "[[0 1 2 3]\n",
      " [4 5 6 7]]\n",
      "[0 2 4 6 8]\n",
      "[[0 4]\n",
      " [1 5]\n",
      " [2 6]\n",
      " [3 7]]\n"
     ]
    }
   ],
   "source": [
    "# Creating arrays\n",
    "\n",
    "arr1 = np.array([1, 2, 3, 4, 5, 6])\n",
    "arr2 = np.zeros((3, 3))\n",
    "#arr3 = np.ones((2, 4))\n",
    "arr3 = np.arange(8).reshape(2, 4)\n",
    "arr4 = np.arange(0, 10, 2)\n",
    "\n",
    "print(arr1)\n",
    "print(arr2)\n",
    "print(arr3)\n",
    "print(arr4)\n",
    "print(arr3.T)"
   ]
  },
  {
   "cell_type": "code",
   "execution_count": 3,
   "id": "71d75c50-e74c-4e88-bca3-448bd45bc63f",
   "metadata": {},
   "outputs": [
    {
     "name": "stdout",
     "output_type": "stream",
     "text": [
      "1\n",
      "(3, 3)\n",
      "int64\n",
      "5\n",
      "[1 2 3 4 5 6]\n",
      "[[1 2 3]\n",
      " [4 5 6]]\n",
      "2\n",
      "(2, 3)\n"
     ]
    }
   ],
   "source": [
    "#Array Attributes and Methods\n",
    "\n",
    "print(arr1.ndim)   # Output: 1\n",
    "print(arr2.shape)  # Output: (3, 3)\n",
    "print(arr3.dtype)  # Output: float64\n",
    "print(arr4.size)   # Output: 5\n",
    "print(arr1)\n",
    "arr5 = arr1.reshape(2, 3)\n",
    "print(arr5)\n",
    "print(arr5.ndim)\n",
    "print(arr5.shape)"
   ]
  },
  {
   "cell_type": "code",
   "execution_count": 4,
   "id": "d11e3cf3-9671-4444-a9db-68e70cb9b2dd",
   "metadata": {},
   "outputs": [
    {
     "name": "stdout",
     "output_type": "stream",
     "text": [
      "[[0 1 2 3]\n",
      " [4 5 6 7]]\n",
      "1\n",
      "6\n",
      "[[1 2]\n",
      " [5 6]]\n"
     ]
    }
   ],
   "source": [
    "#Array Indexing and Slicing\n",
    "\n",
    "print(arr3)\n",
    "\n",
    "# Array indexing and slicing\n",
    "print(arr1[0])        # Output: 1\n",
    "print(arr3[1, 2])     # Output: 0.0\n",
    "print(arr3[:, 1:3])   # Output: Slice rows, columns 1 to 2"
   ]
  },
  {
   "cell_type": "code",
   "execution_count": 5,
   "id": "5b359247-5c94-4263-ac72-811945febdc5",
   "metadata": {},
   "outputs": [
    {
     "name": "stdout",
     "output_type": "stream",
     "text": [
      "[5 7 9]\n",
      "[ 4 10 18]\n",
      "32\n"
     ]
    }
   ],
   "source": [
    "# Array operations\n",
    "\n",
    "arr6 = np.array([1, 2, 3])\n",
    "arr7 = np.array([4, 5, 6])\n",
    "print(arr6 + arr7)    # Output: [5 7 9]\n",
    "print(arr6 * arr7)    # Output: [ 4 10 18]\n",
    "print(np.dot(arr6, arr7))  # Output: Dot product"
   ]
  },
  {
   "cell_type": "code",
   "execution_count": 6,
   "id": "e978e8cb-bdb8-4640-9056-e6554ed4bfa2",
   "metadata": {},
   "outputs": [
    {
     "name": "stdout",
     "output_type": "stream",
     "text": [
      "[[11 22 33]\n",
      " [14 25 36]]\n"
     ]
    }
   ],
   "source": [
    "# Broadcasting\n",
    "\n",
    "arr8 = np.array([[1, 2, 3], [4, 5, 6]])\n",
    "arr9 = np.array([10, 20, 30])\n",
    "print(arr8 + arr9)    # Output: [[11 22 33] [14 25 36]]"
   ]
  },
  {
   "cell_type": "code",
   "execution_count": 7,
   "id": "fbe38f8d-0711-4b91-be96-a1882da61193",
   "metadata": {},
   "outputs": [
    {
     "name": "stdout",
     "output_type": "stream",
     "text": [
      "10\n",
      "2.5\n",
      "1\n",
      "4\n"
     ]
    }
   ],
   "source": [
    "# Array aggregation\n",
    "\n",
    "arr10 = np.array([[1, 2], [3, 4]])\n",
    "print(np.sum(arr10))      # Output: 10\n",
    "print(np.mean(arr10))     # Output: 2.5\n",
    "print(np.min(arr10))      # Output: 1\n",
    "print(np.max(arr10))      # Output: 4"
   ]
  },
  {
   "cell_type": "code",
   "execution_count": 8,
   "id": "51d669d5-b723-4e5b-a866-636b05a0f060",
   "metadata": {},
   "outputs": [
    {
     "name": "stdout",
     "output_type": "stream",
     "text": [
      "[0.40012715 0.17483203 0.44080216]\n",
      "[63 97 34 65  6]\n"
     ]
    }
   ],
   "source": [
    "# Random number generation\n",
    "\n",
    "rand_arr1 = np.random.rand(3)   # Generate random numbers between [0, 1)\n",
    "rand_arr2 = np.random.randint(0, 100, 5)   # Generate random numbers from standard normal distribution\n",
    "print(rand_arr1)\n",
    "print(rand_arr2)"
   ]
  },
  {
   "cell_type": "code",
   "execution_count": 9,
   "id": "2688cded-28ef-42f8-9db1-19d67e32ca48",
   "metadata": {},
   "outputs": [
    {
     "name": "stdout",
     "output_type": "stream",
     "text": [
      "[[19 22]\n",
      " [43 50]]\n"
     ]
    }
   ],
   "source": [
    "# Linear algebra operations\n",
    "\n",
    "mat1 = np.array([[1, 2], [3, 4]])\n",
    "mat2 = np.array([[5, 6], [7, 8]])\n",
    "print(np.matmul(mat1, mat2))   # Output: Matrix multiplication"
   ]
  },
  {
   "cell_type": "code",
   "execution_count": 10,
   "id": "d9a0c3d7-db96-4db4-8540-89ef14b7f2db",
   "metadata": {},
   "outputs": [
    {
     "ename": "SyntaxError",
     "evalue": "invalid syntax (182431802.py, line 2)",
     "output_type": "error",
     "traceback": [
      "\u001b[0;36m  Cell \u001b[0;32mIn[10], line 2\u001b[0;36m\u001b[0m\n\u001b[0;31m    arr10 = np.array([[1, 2], [3, 4]])np.save('my_array.npy', arr10)   # Save array to file\u001b[0m\n\u001b[0m                                      ^\u001b[0m\n\u001b[0;31mSyntaxError\u001b[0m\u001b[0;31m:\u001b[0m invalid syntax\n"
     ]
    }
   ],
   "source": [
    "# Saving and loading arrays\n",
    "arr10 = np.array([[1, 2], [3, 4]])\n",
    "np.save('my_array.npy', arr10)   # Save array to file\n",
    "loaded_arr = np.load('my_array.npy')   # Load array from file"
   ]
  }
 ],
 "metadata": {
  "kernelspec": {
   "display_name": "Python 3 (ipykernel)",
   "language": "python",
   "name": "python3"
  },
  "language_info": {
   "codemirror_mode": {
    "name": "ipython",
    "version": 3
   },
   "file_extension": ".py",
   "mimetype": "text/x-python",
   "name": "python",
   "nbconvert_exporter": "python",
   "pygments_lexer": "ipython3",
   "version": "3.9.2"
  }
 },
 "nbformat": 4,
 "nbformat_minor": 5
}
