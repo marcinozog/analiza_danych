{
 "cells": [
  {
   "cell_type": "code",
   "execution_count": 1,
   "id": "7aab8283-e752-4782-96dc-d0f524116343",
   "metadata": {},
   "outputs": [],
   "source": [
    "import numpy as np"
   ]
  },
  {
   "cell_type": "code",
   "execution_count": 3,
   "id": "5b3de22e-db0a-46e4-9913-6209ce465b30",
   "metadata": {},
   "outputs": [],
   "source": [
    "arr1 = np.zeros(10).reshape((2,5))"
   ]
  },
  {
   "cell_type": "code",
   "execution_count": 4,
   "id": "35d71503-7538-49aa-a322-7a5468de5497",
   "metadata": {},
   "outputs": [
    {
     "name": "stdout",
     "output_type": "stream",
     "text": [
      "[[0. 0. 0. 0. 0.]\n",
      " [0. 0. 0. 0. 0.]]\n"
     ]
    }
   ],
   "source": [
    "print(arr1)"
   ]
  },
  {
   "cell_type": "code",
   "execution_count": null,
   "id": "ca0a49f9-f01f-4a59-96e9-d59dde3838f8",
   "metadata": {},
   "outputs": [],
   "source": []
  }
 ],
 "metadata": {
  "kernelspec": {
   "display_name": "Python 3 (ipykernel)",
   "language": "python",
   "name": "python3"
  },
  "language_info": {
   "codemirror_mode": {
    "name": "ipython",
    "version": 3
   },
   "file_extension": ".py",
   "mimetype": "text/x-python",
   "name": "python",
   "nbconvert_exporter": "python",
   "pygments_lexer": "ipython3",
   "version": "3.9.2"
  }
 },
 "nbformat": 4,
 "nbformat_minor": 5
}
